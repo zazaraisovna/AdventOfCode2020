{
 "cells": [
  {
   "cell_type": "code",
   "execution_count": 94,
   "metadata": {},
   "outputs": [
    {
     "name": "stdout",
     "output_type": "stream",
     "text": [
      "result =  1671\n"
     ]
    }
   ],
   "source": [
    "#acc increases or decreases a single global value called the accumulator by the value given in the argument. For example, acc +7 would increase the accumulator by 7. The accumulator starts at 0. After an acc instruction, the instruction immediately below it is executed next.\n",
    "#jmp jumps to a new instruction relative to itself. The next instruction to execute is found using the argument as an offset from the jmp instruction; for example, jmp +2 would skip the next instruction, jmp +1 would continue to the instruction immediately below it, and jmp -20 would cause the instruction 20 lines above to be executed next.\n",
    "#nop stands for No OPeration - it does nothing. The instruction immediately below it is executed next.\n",
    "\n",
    "accum = 0;\n",
    "\n",
    "def p_command(row, accum):\n",
    "    if int(rulelist[row][1]) < 1:\n",
    "        if rulelist[row][0][0] == 'acc':\n",
    "            if rulelist[row][0][1][:1] == '+':\n",
    "                accum += int(rulelist[row][0][1][1:])\n",
    "                rulelist[row][1] = 1\n",
    "                accum = p_command(row + 1, accum)\n",
    "            elif rulelist[row][0][1][:1] == '-':\n",
    "                accum -= int(rulelist[row][0][1][1:])\n",
    "                rulelist[row][1] = 1\n",
    "                accum = p_command(row + 1, accum)\n",
    "        elif rulelist[row][0][0] == 'jmp':\n",
    "            if rulelist[row][0][1][:1] == '+':\n",
    "                rulelist[row][1] = 1\n",
    "                accum = p_command(row + int(rulelist[row][0][1][1:]), accum)\n",
    "            elif rulelist[row][0][1][:1] == '-':\n",
    "                rulelist[row][1] = 1\n",
    "                accum = p_command(row - int(rulelist[row][0][1][1:]), accum)\n",
    "        elif rulelist[row][0][0] == 'nop':\n",
    "            rulelist[row][1] = 1\n",
    "            accum = p_command(row + 1, accum)\n",
    "    return accum\n",
    "        \n",
    "with open(\"./input.txt\",\"r\") as file:\n",
    "    inp = file.readlines()\n",
    "    rulelist = {}\n",
    "    i = 0\n",
    "    for rule in inp:\n",
    "        rulelist[i] = [rule.split(' '), 0]\n",
    "        i += 1\n",
    "\n",
    "print('result = ', p_command(0, accum))\n",
    "\n",
    "# Part 2\n",
    "# I didn't"
   ]
  }
 ],
 "metadata": {
  "kernelspec": {
   "display_name": "Python 3",
   "language": "python",
   "name": "python3"
  },
  "language_info": {
   "codemirror_mode": {
    "name": "ipython",
    "version": 3
   },
   "file_extension": ".py",
   "mimetype": "text/x-python",
   "name": "python",
   "nbconvert_exporter": "python",
   "pygments_lexer": "ipython3",
   "version": "3.8.3"
  }
 },
 "nbformat": 4,
 "nbformat_minor": 4
}
