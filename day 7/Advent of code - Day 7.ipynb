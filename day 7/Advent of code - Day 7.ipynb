{
 "cells": [
  {
   "cell_type": "code",
   "execution_count": 14,
   "metadata": {},
   "outputs": [
    {
     "name": "stdout",
     "output_type": "stream",
     "text": [
      "['light red bags contain 1 bright white bag, 2 muted yellow bags', 'dark orange bags contain 3 bright white bags, 4 muted yellow bags', 'bright white bags contain 1 shiny gold bag', 'muted yellow bags contain 2 shiny gold bags, 9 faded blue bags', 'shiny gold bags contain 1 dark olive bag, 2 vibrant plum bags', 'dark olive bags contain 3 faded blue bags, 4 dotted black bags', 'vibrant plum bags contain 5 faded blue bags, 6 dotted black bags', 'faded blue bags contain no other bags', 'dotted black bags contain no other bags']\n"
     ]
    }
   ],
   "source": [
    "strrule = 'light red bags contain 1 bright white bag, 2 muted yellow bags.\\\n",
    "dark orange bags contain 3 bright white bags, 4 muted yellow bags.\\\n",
    "bright white bags contain 1 shiny gold bag.\\\n",
    "muted yellow bags contain 2 shiny gold bags, 9 faded blue bags.\\\n",
    "shiny gold bags contain 1 dark olive bag, 2 vibrant plum bags.\\\n",
    "dark olive bags contain 3 faded blue bags, 4 dotted black bags.\\\n",
    "vibrant plum bags contain 5 faded blue bags, 6 dotted black bags.\\\n",
    "faded blue bags contain no other bags.\\\n",
    "dotted black bags contain no other bags'\n",
    "rule = strrule.split('.')\n",
    "print(rule)"
   ]
  },
  {
   "cell_type": "code",
   "execution_count": 38,
   "metadata": {},
   "outputs": [
    {
     "name": "stdout",
     "output_type": "stream",
     "text": [
      "light red\n",
      "('1', 'bright white')\n",
      "('2', 'muted yellow')\n",
      "dark orange\n",
      "('3', 'bright white')\n",
      "('4', 'muted yellow')\n",
      "bright white\n",
      "('1', 'shiny gold')\n",
      "muted yellow\n",
      "('2', 'shiny gold')\n",
      "('9', 'faded blue')\n",
      "shiny gold\n",
      "('1', 'dark olive')\n",
      "('2', 'vibrant plum')\n",
      "dark olive\n",
      "('3', 'faded blue')\n",
      "('4', 'dotted black')\n",
      "vibrant plum\n",
      "('5', 'faded blue')\n",
      "('6', 'dotted black')\n",
      "faded blue\n",
      "('no', 'other')\n",
      "dotted black\n",
      "('no', 'other')\n"
     ]
    }
   ],
   "source": [
    "for i in range(len(rule)):\n",
    "    main_node = rule[i][0:rule[i].find(' bags contain')]\n",
    "    str_node = rule[i][rule[i].find('contain ') + 8:]\n",
    "    print(main_node)\n",
    "    for j in range(str_node.count(',')+1):\n",
    "        node = (str_node[0:str_node.find(' ')],str_node[str_node.find(' ') +1:str_node.find(' bag')])\n",
    "        str_node = str_node[str_node.find(', ') + 2:]\n",
    "        print(node)\n",
    "    \n",
    "   # print(str_node)"
   ]
  },
  {
   "cell_type": "code",
   "execution_count": 19,
   "metadata": {},
   "outputs": [
    {
     "name": "stdout",
     "output_type": "stream",
     "text": [
      "335\n",
      "2431\n"
     ]
    }
   ],
   "source": [
    "#u/author: Tumtum\n",
    "bagcolor = 'shiny gold'\n",
    "cnt = 0\n",
    "cnt2 = 0\n",
    "parentlist = []\n",
    "def TSA(bagcolor,rulelist):\n",
    "    global cnt\n",
    "    global parentlist\n",
    "    tempparent = []\n",
    "    for rule in rulelist:\n",
    "        nextbag = rule\n",
    "        for child in rulelist[rule]:\n",
    "            if child[0] == bagcolor:\n",
    "                tempparent.append(nextbag)\n",
    "                parentlist.append(nextbag)\n",
    "    parentlist = list(set(parentlist))\n",
    "    cnt = len(parentlist)\n",
    "    for item in tempparent:\n",
    "       TSA(item,rulelist)\n",
    "    return cnt \n",
    "   \n",
    "def airlinething(bagcolor,rulelist,numbags):\n",
    "    global cnt2\n",
    "    tempparent = []\n",
    "    colorcnt = 0\n",
    "    for rule in rulelist:\n",
    "        if rule == bagcolor:\n",
    "            nextbag = rule\n",
    "            for child in rulelist[rule]:\n",
    "                if child[1] != 'no':\n",
    "                    parentlist.append(nextbag)\n",
    "                    colorcnt = int(child[1])*int(numbags)\n",
    "                    newrule = (child[0],colorcnt)\n",
    "                    tempparent.append(newrule)\n",
    "                    cnt2 += (colorcnt)\n",
    "    for item in tempparent:\n",
    "        airlinething(item[0],rulelist,item[1])\n",
    "     \n",
    "with open(\"./input.txt\",\"r\") as file:\n",
    "    inp = file.readlines()\n",
    "    rulelist = {}\n",
    "    for rule in inp:\n",
    "        bag , contents = rule.split(' bags contain ')\n",
    "        contents = contents.split(',')\n",
    "        kid=[]\n",
    "        for content in contents:\n",
    "            content = content.split()\n",
    "            temp = content[1] +' '+ content[2]\n",
    "            kid.append((temp, content[0]))\n",
    "        rulelist[bag] = kid\n",
    "TSA(bagcolor,rulelist)\n",
    "airlinething(bagcolor,rulelist,1)\n",
    "print (cnt)\n",
    "print (cnt2)"
   ]
  },
  {
   "cell_type": "code",
   "execution_count": null,
   "metadata": {},
   "outputs": [],
   "source": []
  },
  {
   "cell_type": "code",
   "execution_count": null,
   "metadata": {},
   "outputs": [],
   "source": []
  }
 ],
 "metadata": {
  "kernelspec": {
   "display_name": "Python 3",
   "language": "python",
   "name": "python3"
  },
  "language_info": {
   "codemirror_mode": {
    "name": "ipython",
    "version": 3
   },
   "file_extension": ".py",
   "mimetype": "text/x-python",
   "name": "python",
   "nbconvert_exporter": "python",
   "pygments_lexer": "ipython3",
   "version": "3.8.3"
  }
 },
 "nbformat": 4,
 "nbformat_minor": 4
}
